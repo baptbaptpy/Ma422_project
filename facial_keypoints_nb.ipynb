{
 "cells": [
  {
   "cell_type": "markdown",
   "id": "808dc1c7",
   "metadata": {
    "id": "808dc1c7"
   },
   "source": [
    "# Introduction to Machine Learning - Ma422\n",
    "## Model notebook"
   ]
  },
  {
   "cell_type": "code",
   "execution_count": null,
   "id": "NLXt-sVIFyQv",
   "metadata": {
    "colab": {
     "base_uri": "https://localhost:8080/"
    },
    "executionInfo": {
     "elapsed": 3962,
     "status": "ok",
     "timestamp": 1651408528090,
     "user": {
      "displayName": "Baptiste Lemaire",
      "userId": "01895571140466145409"
     },
     "user_tz": -120
    },
    "id": "NLXt-sVIFyQv",
    "outputId": "a65d20e5-5712-4022-d4f1-3fdd62157df9"
   },
   "outputs": [
    {
     "name": "stdout",
     "output_type": "stream",
     "text": [
      "Drive already mounted at /content/drive; to attempt to forcibly remount, call drive.mount(\"/content/drive\", force_remount=True).\n"
     ]
    }
   ],
   "source": [
    "from google.colab import drive\n",
    "drive.mount('/content/drive')"
   ]
  },
  {
   "cell_type": "code",
   "execution_count": null,
   "id": "3e8b3747",
   "metadata": {
    "id": "3e8b3747"
   },
   "outputs": [],
   "source": [
    "import numpy as np\n",
    "import os\n",
    "import math as m\n",
    "import matplotlib.pyplot as plt\n",
    "import pandas as pd\n",
    "import seaborn as sns\n",
    "import sys\n",
    "import datetime\n",
    "from PIL import Image\n",
    "from tqdm.notebook import tqdm #progressbar\n",
    "\n",
    "from sklearn.model_selection import train_test_split\n",
    "\n",
    "from tensorflow.keras.layers import Conv2D, Dense, Activation, MaxPool2D, BatchNormalization, \\\n",
    "Dropout, LeakyReLU, Flatten, InputLayer, AveragePooling2D, ZeroPadding2D\n",
    "from tensorflow.keras.models import save_model, load_model\n",
    "from tensorflow.keras.backend import clear_session\n",
    "from tensorflow.keras import Sequential\n",
    "from tensorflow.keras.callbacks import EarlyStopping, TensorBoard\n",
    "from tensorboard import notebook\n",
    "from tensorflow.keras.optimizers import Adam, SGD\n",
    "from tensorflow.keras.losses import MeanSquaredError, MeanAbsoluteError"
   ]
  },
  {
   "cell_type": "code",
   "execution_count": null,
   "id": "8ae8290b",
   "metadata": {
    "id": "8ae8290b"
   },
   "outputs": [],
   "source": [
    "data = pd.read_csv(\"drive/MyDrive/Machine_Learning/Kaggle/data/training.zip\", compression='zip')"
   ]
  },
  {
   "cell_type": "code",
   "execution_count": null,
   "id": "dbec1968",
   "metadata": {
    "colab": {
     "base_uri": "https://localhost:8080/",
     "height": 1000
    },
    "executionInfo": {
     "elapsed": 10,
     "status": "ok",
     "timestamp": 1651408534739,
     "user": {
      "displayName": "Baptiste Lemaire",
      "userId": "01895571140466145409"
     },
     "user_tz": -120
    },
    "id": "dbec1968",
    "outputId": "cbdf994a-02cf-4e93-c86e-05da4e342b28"
   },
   "outputs": [
    {
     "name": "stdout",
     "output_type": "stream",
     "text": [
      "(7049, 31)\n"
     ]
    },
    {
     "data": {
      "text/html": [
       "\n",
       "  <div id=\"df-956809e8-ae2c-4ede-aebd-1590201f0aec\">\n",
       "    <div class=\"colab-df-container\">\n",
       "      <div>\n",
       "<style scoped>\n",
       "    .dataframe tbody tr th:only-of-type {\n",
       "        vertical-align: middle;\n",
       "    }\n",
       "\n",
       "    .dataframe tbody tr th {\n",
       "        vertical-align: top;\n",
       "    }\n",
       "\n",
       "    .dataframe thead th {\n",
       "        text-align: right;\n",
       "    }\n",
       "</style>\n",
       "<table border=\"1\" class=\"dataframe\">\n",
       "  <thead>\n",
       "    <tr style=\"text-align: right;\">\n",
       "      <th></th>\n",
       "      <th>left_eye_center_x</th>\n",
       "      <th>left_eye_center_y</th>\n",
       "      <th>right_eye_center_x</th>\n",
       "      <th>right_eye_center_y</th>\n",
       "      <th>left_eye_inner_corner_x</th>\n",
       "      <th>left_eye_inner_corner_y</th>\n",
       "      <th>left_eye_outer_corner_x</th>\n",
       "      <th>left_eye_outer_corner_y</th>\n",
       "      <th>right_eye_inner_corner_x</th>\n",
       "      <th>right_eye_inner_corner_y</th>\n",
       "      <th>...</th>\n",
       "      <th>nose_tip_y</th>\n",
       "      <th>mouth_left_corner_x</th>\n",
       "      <th>mouth_left_corner_y</th>\n",
       "      <th>mouth_right_corner_x</th>\n",
       "      <th>mouth_right_corner_y</th>\n",
       "      <th>mouth_center_top_lip_x</th>\n",
       "      <th>mouth_center_top_lip_y</th>\n",
       "      <th>mouth_center_bottom_lip_x</th>\n",
       "      <th>mouth_center_bottom_lip_y</th>\n",
       "      <th>Image</th>\n",
       "    </tr>\n",
       "  </thead>\n",
       "  <tbody>\n",
       "    <tr>\n",
       "      <th>0</th>\n",
       "      <td>66.033564</td>\n",
       "      <td>39.002274</td>\n",
       "      <td>30.227008</td>\n",
       "      <td>36.421678</td>\n",
       "      <td>59.582075</td>\n",
       "      <td>39.647423</td>\n",
       "      <td>73.130346</td>\n",
       "      <td>39.969997</td>\n",
       "      <td>36.356571</td>\n",
       "      <td>37.389402</td>\n",
       "      <td>...</td>\n",
       "      <td>57.066803</td>\n",
       "      <td>61.195308</td>\n",
       "      <td>79.970165</td>\n",
       "      <td>28.614496</td>\n",
       "      <td>77.388992</td>\n",
       "      <td>43.312602</td>\n",
       "      <td>72.935459</td>\n",
       "      <td>43.130707</td>\n",
       "      <td>84.485774</td>\n",
       "      <td>238 236 237 238 240 240 239 241 241 243 240 23...</td>\n",
       "    </tr>\n",
       "    <tr>\n",
       "      <th>1</th>\n",
       "      <td>64.332936</td>\n",
       "      <td>34.970077</td>\n",
       "      <td>29.949277</td>\n",
       "      <td>33.448715</td>\n",
       "      <td>58.856170</td>\n",
       "      <td>35.274349</td>\n",
       "      <td>70.722723</td>\n",
       "      <td>36.187166</td>\n",
       "      <td>36.034723</td>\n",
       "      <td>34.361532</td>\n",
       "      <td>...</td>\n",
       "      <td>55.660936</td>\n",
       "      <td>56.421447</td>\n",
       "      <td>76.352000</td>\n",
       "      <td>35.122383</td>\n",
       "      <td>76.047660</td>\n",
       "      <td>46.684596</td>\n",
       "      <td>70.266553</td>\n",
       "      <td>45.467915</td>\n",
       "      <td>85.480170</td>\n",
       "      <td>219 215 204 196 204 211 212 200 180 168 178 19...</td>\n",
       "    </tr>\n",
       "    <tr>\n",
       "      <th>2</th>\n",
       "      <td>65.057053</td>\n",
       "      <td>34.909642</td>\n",
       "      <td>30.903789</td>\n",
       "      <td>34.909642</td>\n",
       "      <td>59.412000</td>\n",
       "      <td>36.320968</td>\n",
       "      <td>70.984421</td>\n",
       "      <td>36.320968</td>\n",
       "      <td>37.678105</td>\n",
       "      <td>36.320968</td>\n",
       "      <td>...</td>\n",
       "      <td>53.538947</td>\n",
       "      <td>60.822947</td>\n",
       "      <td>73.014316</td>\n",
       "      <td>33.726316</td>\n",
       "      <td>72.732000</td>\n",
       "      <td>47.274947</td>\n",
       "      <td>70.191789</td>\n",
       "      <td>47.274947</td>\n",
       "      <td>78.659368</td>\n",
       "      <td>144 142 159 180 188 188 184 180 167 132 84 59 ...</td>\n",
       "    </tr>\n",
       "    <tr>\n",
       "      <th>3</th>\n",
       "      <td>65.225739</td>\n",
       "      <td>37.261774</td>\n",
       "      <td>32.023096</td>\n",
       "      <td>37.261774</td>\n",
       "      <td>60.003339</td>\n",
       "      <td>39.127179</td>\n",
       "      <td>72.314713</td>\n",
       "      <td>38.380967</td>\n",
       "      <td>37.618643</td>\n",
       "      <td>38.754115</td>\n",
       "      <td>...</td>\n",
       "      <td>54.166539</td>\n",
       "      <td>65.598887</td>\n",
       "      <td>72.703722</td>\n",
       "      <td>37.245496</td>\n",
       "      <td>74.195478</td>\n",
       "      <td>50.303165</td>\n",
       "      <td>70.091687</td>\n",
       "      <td>51.561183</td>\n",
       "      <td>78.268383</td>\n",
       "      <td>193 192 193 194 194 194 193 192 168 111 50 12 ...</td>\n",
       "    </tr>\n",
       "    <tr>\n",
       "      <th>4</th>\n",
       "      <td>66.725301</td>\n",
       "      <td>39.621261</td>\n",
       "      <td>32.244810</td>\n",
       "      <td>38.042032</td>\n",
       "      <td>58.565890</td>\n",
       "      <td>39.621261</td>\n",
       "      <td>72.515926</td>\n",
       "      <td>39.884466</td>\n",
       "      <td>36.982380</td>\n",
       "      <td>39.094852</td>\n",
       "      <td>...</td>\n",
       "      <td>64.889521</td>\n",
       "      <td>60.671411</td>\n",
       "      <td>77.523239</td>\n",
       "      <td>31.191755</td>\n",
       "      <td>76.997301</td>\n",
       "      <td>44.962748</td>\n",
       "      <td>73.707387</td>\n",
       "      <td>44.227141</td>\n",
       "      <td>86.871166</td>\n",
       "      <td>147 148 160 196 215 214 216 217 219 220 206 18...</td>\n",
       "    </tr>\n",
       "  </tbody>\n",
       "</table>\n",
       "<p>5 rows × 31 columns</p>\n",
       "</div>\n",
       "      <button class=\"colab-df-convert\" onclick=\"convertToInteractive('df-956809e8-ae2c-4ede-aebd-1590201f0aec')\"\n",
       "              title=\"Convert this dataframe to an interactive table.\"\n",
       "              style=\"display:none;\">\n",
       "        \n",
       "  <svg xmlns=\"http://www.w3.org/2000/svg\" height=\"24px\"viewBox=\"0 0 24 24\"\n",
       "       width=\"24px\">\n",
       "    <path d=\"M0 0h24v24H0V0z\" fill=\"none\"/>\n",
       "    <path d=\"M18.56 5.44l.94 2.06.94-2.06 2.06-.94-2.06-.94-.94-2.06-.94 2.06-2.06.94zm-11 1L8.5 8.5l.94-2.06 2.06-.94-2.06-.94L8.5 2.5l-.94 2.06-2.06.94zm10 10l.94 2.06.94-2.06 2.06-.94-2.06-.94-.94-2.06-.94 2.06-2.06.94z\"/><path d=\"M17.41 7.96l-1.37-1.37c-.4-.4-.92-.59-1.43-.59-.52 0-1.04.2-1.43.59L10.3 9.45l-7.72 7.72c-.78.78-.78 2.05 0 2.83L4 21.41c.39.39.9.59 1.41.59.51 0 1.02-.2 1.41-.59l7.78-7.78 2.81-2.81c.8-.78.8-2.07 0-2.86zM5.41 20L4 18.59l7.72-7.72 1.47 1.35L5.41 20z\"/>\n",
       "  </svg>\n",
       "      </button>\n",
       "      \n",
       "  <style>\n",
       "    .colab-df-container {\n",
       "      display:flex;\n",
       "      flex-wrap:wrap;\n",
       "      gap: 12px;\n",
       "    }\n",
       "\n",
       "    .colab-df-convert {\n",
       "      background-color: #E8F0FE;\n",
       "      border: none;\n",
       "      border-radius: 50%;\n",
       "      cursor: pointer;\n",
       "      display: none;\n",
       "      fill: #1967D2;\n",
       "      height: 32px;\n",
       "      padding: 0 0 0 0;\n",
       "      width: 32px;\n",
       "    }\n",
       "\n",
       "    .colab-df-convert:hover {\n",
       "      background-color: #E2EBFA;\n",
       "      box-shadow: 0px 1px 2px rgba(60, 64, 67, 0.3), 0px 1px 3px 1px rgba(60, 64, 67, 0.15);\n",
       "      fill: #174EA6;\n",
       "    }\n",
       "\n",
       "    [theme=dark] .colab-df-convert {\n",
       "      background-color: #3B4455;\n",
       "      fill: #D2E3FC;\n",
       "    }\n",
       "\n",
       "    [theme=dark] .colab-df-convert:hover {\n",
       "      background-color: #434B5C;\n",
       "      box-shadow: 0px 1px 3px 1px rgba(0, 0, 0, 0.15);\n",
       "      filter: drop-shadow(0px 1px 2px rgba(0, 0, 0, 0.3));\n",
       "      fill: #FFFFFF;\n",
       "    }\n",
       "  </style>\n",
       "\n",
       "      <script>\n",
       "        const buttonEl =\n",
       "          document.querySelector('#df-956809e8-ae2c-4ede-aebd-1590201f0aec button.colab-df-convert');\n",
       "        buttonEl.style.display =\n",
       "          google.colab.kernel.accessAllowed ? 'block' : 'none';\n",
       "\n",
       "        async function convertToInteractive(key) {\n",
       "          const element = document.querySelector('#df-956809e8-ae2c-4ede-aebd-1590201f0aec');\n",
       "          const dataTable =\n",
       "            await google.colab.kernel.invokeFunction('convertToInteractive',\n",
       "                                                     [key], {});\n",
       "          if (!dataTable) return;\n",
       "\n",
       "          const docLinkHtml = 'Like what you see? Visit the ' +\n",
       "            '<a target=\"_blank\" href=https://colab.research.google.com/notebooks/data_table.ipynb>data table notebook</a>'\n",
       "            + ' to learn more about interactive tables.';\n",
       "          element.innerHTML = '';\n",
       "          dataTable['output_type'] = 'display_data';\n",
       "          await google.colab.output.renderOutput(dataTable, element);\n",
       "          const docLink = document.createElement('div');\n",
       "          docLink.innerHTML = docLinkHtml;\n",
       "          element.appendChild(docLink);\n",
       "        }\n",
       "      </script>\n",
       "    </div>\n",
       "  </div>\n",
       "  "
      ],
      "text/plain": [
       "   left_eye_center_x  left_eye_center_y  right_eye_center_x  \\\n",
       "0          66.033564          39.002274           30.227008   \n",
       "1          64.332936          34.970077           29.949277   \n",
       "2          65.057053          34.909642           30.903789   \n",
       "3          65.225739          37.261774           32.023096   \n",
       "4          66.725301          39.621261           32.244810   \n",
       "\n",
       "   right_eye_center_y  left_eye_inner_corner_x  left_eye_inner_corner_y  \\\n",
       "0           36.421678                59.582075                39.647423   \n",
       "1           33.448715                58.856170                35.274349   \n",
       "2           34.909642                59.412000                36.320968   \n",
       "3           37.261774                60.003339                39.127179   \n",
       "4           38.042032                58.565890                39.621261   \n",
       "\n",
       "   left_eye_outer_corner_x  left_eye_outer_corner_y  right_eye_inner_corner_x  \\\n",
       "0                73.130346                39.969997                 36.356571   \n",
       "1                70.722723                36.187166                 36.034723   \n",
       "2                70.984421                36.320968                 37.678105   \n",
       "3                72.314713                38.380967                 37.618643   \n",
       "4                72.515926                39.884466                 36.982380   \n",
       "\n",
       "   right_eye_inner_corner_y  ...  nose_tip_y  mouth_left_corner_x  \\\n",
       "0                 37.389402  ...   57.066803            61.195308   \n",
       "1                 34.361532  ...   55.660936            56.421447   \n",
       "2                 36.320968  ...   53.538947            60.822947   \n",
       "3                 38.754115  ...   54.166539            65.598887   \n",
       "4                 39.094852  ...   64.889521            60.671411   \n",
       "\n",
       "   mouth_left_corner_y  mouth_right_corner_x  mouth_right_corner_y  \\\n",
       "0            79.970165             28.614496             77.388992   \n",
       "1            76.352000             35.122383             76.047660   \n",
       "2            73.014316             33.726316             72.732000   \n",
       "3            72.703722             37.245496             74.195478   \n",
       "4            77.523239             31.191755             76.997301   \n",
       "\n",
       "   mouth_center_top_lip_x  mouth_center_top_lip_y  mouth_center_bottom_lip_x  \\\n",
       "0               43.312602               72.935459                  43.130707   \n",
       "1               46.684596               70.266553                  45.467915   \n",
       "2               47.274947               70.191789                  47.274947   \n",
       "3               50.303165               70.091687                  51.561183   \n",
       "4               44.962748               73.707387                  44.227141   \n",
       "\n",
       "   mouth_center_bottom_lip_y  \\\n",
       "0                  84.485774   \n",
       "1                  85.480170   \n",
       "2                  78.659368   \n",
       "3                  78.268383   \n",
       "4                  86.871166   \n",
       "\n",
       "                                               Image  \n",
       "0  238 236 237 238 240 240 239 241 241 243 240 23...  \n",
       "1  219 215 204 196 204 211 212 200 180 168 178 19...  \n",
       "2  144 142 159 180 188 188 184 180 167 132 84 59 ...  \n",
       "3  193 192 193 194 194 194 193 192 168 111 50 12 ...  \n",
       "4  147 148 160 196 215 214 216 217 219 220 206 18...  \n",
       "\n",
       "[5 rows x 31 columns]"
      ]
     },
     "execution_count": 38,
     "metadata": {},
     "output_type": "execute_result"
    }
   ],
   "source": [
    "print(data.shape)\n",
    "data.head()"
   ]
  },
  {
   "cell_type": "code",
   "execution_count": null,
   "id": "4e744f47",
   "metadata": {
    "colab": {
     "base_uri": "https://localhost:8080/",
     "height": 1000
    },
    "executionInfo": {
     "elapsed": 1684,
     "status": "ok",
     "timestamp": 1651408536417,
     "user": {
      "displayName": "Baptiste Lemaire",
      "userId": "01895571140466145409"
     },
     "user_tz": -120
    },
    "id": "4e744f47",
    "outputId": "7813bff3-8e81-416f-e22d-af20fefbdcd6"
   },
   "outputs": [
    {
     "name": "stdout",
     "output_type": "stream",
     "text": [
      "left_eyebrow_outer_end_y     4824\n",
      "left_eyebrow_outer_end_x     4824\n",
      "right_eyebrow_outer_end_y    4813\n",
      "right_eyebrow_outer_end_x    4813\n",
      "left_eye_outer_corner_x      4782\n",
      "left_eye_outer_corner_y      4782\n",
      "right_eye_inner_corner_x     4781\n",
      "right_eye_inner_corner_y     4781\n",
      "right_eye_outer_corner_x     4781\n",
      "right_eye_outer_corner_y     4781\n",
      "mouth_left_corner_y          4780\n",
      "mouth_left_corner_x          4780\n",
      "right_eyebrow_inner_end_x    4779\n",
      "mouth_right_corner_x         4779\n",
      "right_eyebrow_inner_end_y    4779\n",
      "left_eyebrow_inner_end_y     4779\n",
      "left_eyebrow_inner_end_x     4779\n",
      "mouth_right_corner_y         4779\n",
      "left_eye_inner_corner_y      4778\n",
      "left_eye_inner_corner_x      4778\n",
      "mouth_center_top_lip_x       4774\n",
      "mouth_center_top_lip_y       4774\n",
      "mouth_center_bottom_lip_y      33\n",
      "mouth_center_bottom_lip_x      33\n",
      "right_eye_center_y             13\n",
      "right_eye_center_x             13\n",
      "left_eye_center_x              10\n",
      "left_eye_center_y              10\n",
      "nose_tip_y                      0\n",
      "nose_tip_x                      0\n",
      "Image                           0\n",
      "dtype: int64\n"
     ]
    },
    {
     "data": {
      "image/png": "[encoded data removed]",
      "text/plain": [
       "<Figure size 720x432 with 1 Axes>"
      ]
     },
     "metadata": {
      "needs_background": "light"
     },
     "output_type": "display_data"
    }
   ],
   "source": [
    "# filter missing values, get the average number and sort each column by average\n",
    "distr_missing_value = data.isnull().sum().sort_values(ascending=False) \n",
    "print(distr_missing_value)\n",
    "\n",
    "plt.figure(figsize=(10,6))\n",
    "\n",
    "sns.barplot(x=distr_missing_value.index, y=distr_missing_value.values)\n",
    "\n",
    "plt.xticks(rotation=70)\n",
    "plt.tight_layout()\n",
    "plt.title(\"Percentage of missing values in each column\")\n",
    "\n",
    "plt.show()"
   ]
  },
  {
   "cell_type": "code",
   "execution_count": null,
   "id": "6ef2e87e",
   "metadata": {
    "id": "6ef2e87e"
   },
   "outputs": [],
   "source": [
    "lm_names = ['left_eye_center','right_eye_center','left_eye_inner_corner','left_eye_outer_corner','right_eye_inner_corner',\\\n",
    "         'right_eye_outer_corner','left_eyebrow_inner_end','left_eyebrow_outer_end','right_eyebrow_inner_end',\\\n",
    "         'right_eyebrow_outer_end','nose_tip','mouth_left_corner','mouth_right_corner','mouth_center_top_lip',\\\n",
    "         'mouth_center_bottom_lip'] #landmarks names\n",
    "\n",
    "# dict_names = dict()\n",
    "# for name in lm_names:\n",
    "#     if distr_missing_value[name+'_x'] > 0:\n",
    "#         dict_names[name] = pd.DataFrame([data[name+'_x'], data[name+'_y']])\n",
    "#         dict_names[name].dropna(inplace= True, axis=1)\n",
    "# # full_ds = data.copy(deep=False)\n"
   ]
  },
  {
   "cell_type": "code",
   "execution_count": null,
   "id": "cd68ec0b",
   "metadata": {
    "id": "cd68ec0b"
   },
   "outputs": [],
   "source": [
    "# dict_names['left_eyebrow_outer_end']"
   ]
  },
  {
   "cell_type": "code",
   "execution_count": null,
   "id": "91556757",
   "metadata": {
    "id": "91556757"
   },
   "outputs": [],
   "source": [
    "# nrow = 3\n",
    "# ncol = m.ceil(len(dict_names)/nrow)\n",
    "# figsize = (3*ncol, 2.5*nrow)\n",
    "# fig, axes = plt.subplots(nrow, ncol, sharex=True, sharey=True, figsize=figsize)\n",
    "# for name, ax in zip(dict_names.keys(), axes.flat):\n",
    "#     ax.scatter(dict_names[name].iloc[0], dict_names[name].iloc[1])\n",
    "#     ax.title.set_text(name)\n",
    "# #     ax.invert_xaxis()\n",
    "#     plt.ylim(max(plt.ylim()), min(plt.ylim()))\n",
    "# #     ax.set_xticks([])\n",
    "# #     ax.set_yticks([])\n",
    "# # fig.colorbar(img, cax=fig.add_axes([0.92, 0.25, 0.01, .5]))   # Add a colorbar on the right\n",
    "# plt.show()"
   ]
  },
  {
   "cell_type": "code",
   "execution_count": null,
   "id": "2cc29cff",
   "metadata": {
    "id": "2cc29cff"
   },
   "outputs": [],
   "source": [
    "data.fillna(method='ffill', inplace=True)"
   ]
  },
  {
   "cell_type": "code",
   "execution_count": null,
   "id": "1ae789f9",
   "metadata": {
    "colab": {
     "base_uri": "https://localhost:8080/"
    },
    "executionInfo": {
     "elapsed": 7,
     "status": "ok",
     "timestamp": 1651408536419,
     "user": {
      "displayName": "Baptiste Lemaire",
      "userId": "01895571140466145409"
     },
     "user_tz": -120
    },
    "id": "1ae789f9",
    "outputId": "7da1ca1e-9d35-433d-c371-9d9b3a1948ce"
   },
   "outputs": [
    {
     "name": "stdout",
     "output_type": "stream",
     "text": [
      "left_eye_center_x            0\n",
      "right_eyebrow_inner_end_x    0\n",
      "mouth_center_bottom_lip_y    0\n",
      "mouth_center_bottom_lip_x    0\n",
      "mouth_center_top_lip_y       0\n",
      "mouth_center_top_lip_x       0\n",
      "mouth_right_corner_y         0\n",
      "mouth_right_corner_x         0\n",
      "mouth_left_corner_y          0\n",
      "mouth_left_corner_x          0\n",
      "nose_tip_y                   0\n",
      "nose_tip_x                   0\n",
      "right_eyebrow_outer_end_y    0\n",
      "right_eyebrow_outer_end_x    0\n",
      "right_eyebrow_inner_end_y    0\n",
      "left_eyebrow_outer_end_y     0\n",
      "left_eye_center_y            0\n",
      "left_eyebrow_outer_end_x     0\n",
      "left_eyebrow_inner_end_y     0\n",
      "left_eyebrow_inner_end_x     0\n",
      "right_eye_outer_corner_y     0\n",
      "right_eye_outer_corner_x     0\n",
      "right_eye_inner_corner_y     0\n",
      "right_eye_inner_corner_x     0\n",
      "left_eye_outer_corner_y      0\n",
      "left_eye_outer_corner_x      0\n",
      "left_eye_inner_corner_y      0\n",
      "left_eye_inner_corner_x      0\n",
      "right_eye_center_y           0\n",
      "right_eye_center_x           0\n",
      "Image                        0\n",
      "dtype: int64\n"
     ]
    }
   ],
   "source": [
    "distr_missing_value = data.isnull().sum().sort_values(ascending=False) \n",
    "print(distr_missing_value)"
   ]
  },
  {
   "cell_type": "code",
   "execution_count": null,
   "id": "1f7eaef6",
   "metadata": {
    "colab": {
     "base_uri": "https://localhost:8080/"
    },
    "executionInfo": {
     "elapsed": 5468,
     "status": "ok",
     "timestamp": 1651408541881,
     "user": {
      "displayName": "Baptiste Lemaire",
      "userId": "01895571140466145409"
     },
     "user_tz": -120
    },
    "id": "1f7eaef6",
    "outputId": "600875d1-37ec-462f-97e6-96ddf9a3ac3a"
   },
   "outputs": [
    {
     "name": "stdout",
     "output_type": "stream",
     "text": [
      "CPU times: user 3 s, sys: 409 ms, total: 3.41 s\n",
      "Wall time: 5.35 s\n"
     ]
    }
   ],
   "source": [
    "%%time\n",
    "X = np.array(list(map(lambda x: np.fromstring(x, dtype=int, sep=' ').reshape((96,96)), data['Image'])))\n",
    "y = data[data.columns[:-1]]"
   ]
  },
  {
   "cell_type": "code",
   "execution_count": null,
   "id": "49f4fd7b",
   "metadata": {
    "colab": {
     "base_uri": "https://localhost:8080/",
     "height": 268
    },
    "executionInfo": {
     "elapsed": 686,
     "status": "ok",
     "timestamp": 1651408542563,
     "user": {
      "displayName": "Baptiste Lemaire",
      "userId": "01895571140466145409"
     },
     "user_tz": -120
    },
    "id": "49f4fd7b",
    "outputId": "2a76b01e-e8f5-40cb-cd35-7571a6360c8e",
    "scrolled": true
   },
   "outputs": [
    {
     "data": {
      "image/png": "[encoded data removed]",
      "text/plain": [
       "<Figure size 432x288 with 1 Axes>"
      ]
     },
     "metadata": {
      "needs_background": "light"
     },
     "output_type": "display_data"
    }
   ],
   "source": [
    "plt.imshow(X[0], cmap='gray')\n",
    "plt.show()"
   ]
  },
  {
   "cell_type": "code",
   "execution_count": null,
   "id": "90d800e4",
   "metadata": {
    "colab": {
     "base_uri": "https://localhost:8080/"
    },
    "executionInfo": {
     "elapsed": 11,
     "status": "ok",
     "timestamp": 1651408542564,
     "user": {
      "displayName": "Baptiste Lemaire",
      "userId": "01895571140466145409"
     },
     "user_tz": -120
    },
    "id": "90d800e4",
    "outputId": "667a6abb-fc52-47b8-dbc6-bb9ee4595154"
   },
   "outputs": [
    {
     "name": "stdout",
     "output_type": "stream",
     "text": [
      "(7049, 96, 96)\n",
      "(7049, 30)\n"
     ]
    }
   ],
   "source": [
    "print(X.shape)\n",
    "print(y.shape)"
   ]
  },
  {
   "cell_type": "code",
   "execution_count": null,
   "id": "38815402",
   "metadata": {
    "colab": {
     "base_uri": "https://localhost:8080/"
    },
    "executionInfo": {
     "elapsed": 10,
     "status": "ok",
     "timestamp": 1651408542565,
     "user": {
      "displayName": "Baptiste Lemaire",
      "userId": "01895571140466145409"
     },
     "user_tz": -120
    },
    "id": "38815402",
    "outputId": "3e3b2e96-b1c5-435c-f26a-d24e35fc64b1"
   },
   "outputs": [
    {
     "name": "stderr",
     "output_type": "stream",
     "text": [
      "/usr/local/lib/python3.7/dist-packages/pandas/core/indexing.py:1732: SettingWithCopyWarning: \n",
      "A value is trying to be set on a copy of a slice from a DataFrame\n",
      "\n",
      "See the caveats in the documentation: https://pandas.pydata.org/pandas-docs/stable/user_guide/indexing.html#returning-a-view-versus-a-copy\n",
      "  self._setitem_single_block(indexer, value, name)\n",
      "/usr/local/lib/python3.7/dist-packages/pandas/core/indexing.py:723: SettingWithCopyWarning: \n",
      "A value is trying to be set on a copy of a slice from a DataFrame\n",
      "\n",
      "See the caveats in the documentation: https://pandas.pydata.org/pandas-docs/stable/user_guide/indexing.html#returning-a-view-versus-a-copy\n",
      "  iloc._setitem_with_indexer(indexer, value, self.name)\n"
     ]
    }
   ],
   "source": [
    "col_x = y.columns[y.columns.str.endswith('x')]\n",
    "col_y = y.columns[y.columns.str.endswith('y')]\n",
    "y.loc[:,col_x] = y.loc[:,col_x].apply(lambda x: (x-48)/48)\n",
    "y.loc[:,col_y] = y.loc[:,col_y].apply(lambda x: (x-48)/-48)"
   ]
  },
  {
   "cell_type": "code",
   "execution_count": null,
   "id": "f13adb20",
   "metadata": {
    "colab": {
     "base_uri": "https://localhost:8080/",
     "height": 488
    },
    "executionInfo": {
     "elapsed": 5,
     "status": "ok",
     "timestamp": 1651408543747,
     "user": {
      "displayName": "Baptiste Lemaire",
      "userId": "01895571140466145409"
     },
     "user_tz": -120
    },
    "id": "f13adb20",
    "outputId": "366b44ec-690b-4a7c-feb3-f5e5dc592723"
   },
   "outputs": [
    {
     "data": {
      "text/html": [
       "\n",
       "  <div id=\"df-b47656f8-a96c-470d-b8c6-0927845490ea\">\n",
       "    <div class=\"colab-df-container\">\n",
       "      <div>\n",
       "<style scoped>\n",
       "    .dataframe tbody tr th:only-of-type {\n",
       "        vertical-align: middle;\n",
       "    }\n",
       "\n",
       "    .dataframe tbody tr th {\n",
       "        vertical-align: top;\n",
       "    }\n",
       "\n",
       "    .dataframe thead th {\n",
       "        text-align: right;\n",
       "    }\n",
       "</style>\n",
       "<table border=\"1\" class=\"dataframe\">\n",
       "  <thead>\n",
       "    <tr style=\"text-align: right;\">\n",
       "      <th></th>\n",
       "      <th>left_eye_center_x</th>\n",
       "      <th>left_eye_center_y</th>\n",
       "      <th>right_eye_center_x</th>\n",
       "      <th>right_eye_center_y</th>\n",
       "      <th>left_eye_inner_corner_x</th>\n",
       "      <th>left_eye_inner_corner_y</th>\n",
       "      <th>left_eye_outer_corner_x</th>\n",
       "      <th>left_eye_outer_corner_y</th>\n",
       "      <th>right_eye_inner_corner_x</th>\n",
       "      <th>right_eye_inner_corner_y</th>\n",
       "      <th>...</th>\n",
       "      <th>nose_tip_x</th>\n",
       "      <th>nose_tip_y</th>\n",
       "      <th>mouth_left_corner_x</th>\n",
       "      <th>mouth_left_corner_y</th>\n",
       "      <th>mouth_right_corner_x</th>\n",
       "      <th>mouth_right_corner_y</th>\n",
       "      <th>mouth_center_top_lip_x</th>\n",
       "      <th>mouth_center_top_lip_y</th>\n",
       "      <th>mouth_center_bottom_lip_x</th>\n",
       "      <th>mouth_center_bottom_lip_y</th>\n",
       "    </tr>\n",
       "  </thead>\n",
       "  <tbody>\n",
       "    <tr>\n",
       "      <th>0</th>\n",
       "      <td>0.375699</td>\n",
       "      <td>0.187453</td>\n",
       "      <td>-0.370271</td>\n",
       "      <td>0.241215</td>\n",
       "      <td>0.241293</td>\n",
       "      <td>0.174012</td>\n",
       "      <td>0.523549</td>\n",
       "      <td>0.167292</td>\n",
       "      <td>-0.242571</td>\n",
       "      <td>0.221054</td>\n",
       "      <td>...</td>\n",
       "      <td>-0.074571</td>\n",
       "      <td>-0.188892</td>\n",
       "      <td>0.274902</td>\n",
       "      <td>-0.666045</td>\n",
       "      <td>-0.403865</td>\n",
       "      <td>-0.612271</td>\n",
       "      <td>-0.097654</td>\n",
       "      <td>-0.519489</td>\n",
       "      <td>-0.101444</td>\n",
       "      <td>-0.760120</td>\n",
       "    </tr>\n",
       "    <tr>\n",
       "      <th>1</th>\n",
       "      <td>0.340270</td>\n",
       "      <td>0.271457</td>\n",
       "      <td>-0.376057</td>\n",
       "      <td>0.303152</td>\n",
       "      <td>0.226170</td>\n",
       "      <td>0.265118</td>\n",
       "      <td>0.473390</td>\n",
       "      <td>0.246101</td>\n",
       "      <td>-0.249277</td>\n",
       "      <td>0.284135</td>\n",
       "      <td>...</td>\n",
       "      <td>0.004298</td>\n",
       "      <td>-0.159603</td>\n",
       "      <td>0.175447</td>\n",
       "      <td>-0.590667</td>\n",
       "      <td>-0.268284</td>\n",
       "      <td>-0.584326</td>\n",
       "      <td>-0.027404</td>\n",
       "      <td>-0.463887</td>\n",
       "      <td>-0.052752</td>\n",
       "      <td>-0.780837</td>\n",
       "    </tr>\n",
       "    <tr>\n",
       "      <th>2</th>\n",
       "      <td>0.355355</td>\n",
       "      <td>0.272716</td>\n",
       "      <td>-0.356171</td>\n",
       "      <td>0.272716</td>\n",
       "      <td>0.237750</td>\n",
       "      <td>0.243313</td>\n",
       "      <td>0.478842</td>\n",
       "      <td>0.243313</td>\n",
       "      <td>-0.215039</td>\n",
       "      <td>0.243313</td>\n",
       "      <td>...</td>\n",
       "      <td>-0.009224</td>\n",
       "      <td>-0.115395</td>\n",
       "      <td>0.267145</td>\n",
       "      <td>-0.521132</td>\n",
       "      <td>-0.297368</td>\n",
       "      <td>-0.515250</td>\n",
       "      <td>-0.015105</td>\n",
       "      <td>-0.462329</td>\n",
       "      <td>-0.015105</td>\n",
       "      <td>-0.638737</td>\n",
       "    </tr>\n",
       "    <tr>\n",
       "      <th>3</th>\n",
       "      <td>0.358870</td>\n",
       "      <td>0.223713</td>\n",
       "      <td>-0.332852</td>\n",
       "      <td>0.223713</td>\n",
       "      <td>0.250070</td>\n",
       "      <td>0.184850</td>\n",
       "      <td>0.506557</td>\n",
       "      <td>0.200397</td>\n",
       "      <td>-0.216278</td>\n",
       "      <td>0.192623</td>\n",
       "      <td>...</td>\n",
       "      <td>0.080939</td>\n",
       "      <td>-0.128470</td>\n",
       "      <td>0.366643</td>\n",
       "      <td>-0.514661</td>\n",
       "      <td>-0.224052</td>\n",
       "      <td>-0.545739</td>\n",
       "      <td>0.047983</td>\n",
       "      <td>-0.460243</td>\n",
       "      <td>0.074191</td>\n",
       "      <td>-0.630591</td>\n",
       "    </tr>\n",
       "    <tr>\n",
       "      <th>4</th>\n",
       "      <td>0.390110</td>\n",
       "      <td>0.174557</td>\n",
       "      <td>-0.328233</td>\n",
       "      <td>0.207458</td>\n",
       "      <td>0.220123</td>\n",
       "      <td>0.174557</td>\n",
       "      <td>0.510748</td>\n",
       "      <td>0.169074</td>\n",
       "      <td>-0.229534</td>\n",
       "      <td>0.185524</td>\n",
       "      <td>...</td>\n",
       "      <td>-0.097926</td>\n",
       "      <td>-0.351865</td>\n",
       "      <td>0.263988</td>\n",
       "      <td>-0.615067</td>\n",
       "      <td>-0.350172</td>\n",
       "      <td>-0.604110</td>\n",
       "      <td>-0.063276</td>\n",
       "      <td>-0.535571</td>\n",
       "      <td>-0.078601</td>\n",
       "      <td>-0.809816</td>\n",
       "    </tr>\n",
       "    <tr>\n",
       "      <th>...</th>\n",
       "      <td>...</td>\n",
       "      <td>...</td>\n",
       "      <td>...</td>\n",
       "      <td>...</td>\n",
       "      <td>...</td>\n",
       "      <td>...</td>\n",
       "      <td>...</td>\n",
       "      <td>...</td>\n",
       "      <td>...</td>\n",
       "      <td>...</td>\n",
       "      <td>...</td>\n",
       "      <td>...</td>\n",
       "      <td>...</td>\n",
       "      <td>...</td>\n",
       "      <td>...</td>\n",
       "      <td>...</td>\n",
       "      <td>...</td>\n",
       "      <td>...</td>\n",
       "      <td>...</td>\n",
       "      <td>...</td>\n",
       "      <td>...</td>\n",
       "    </tr>\n",
       "    <tr>\n",
       "      <th>7044</th>\n",
       "      <td>0.404220</td>\n",
       "      <td>0.336614</td>\n",
       "      <td>-0.380276</td>\n",
       "      <td>0.195147</td>\n",
       "      <td>0.234486</td>\n",
       "      <td>0.248643</td>\n",
       "      <td>0.540473</td>\n",
       "      <td>0.278653</td>\n",
       "      <td>-0.219197</td>\n",
       "      <td>0.179207</td>\n",
       "      <td>...</td>\n",
       "      <td>0.005541</td>\n",
       "      <td>-0.396439</td>\n",
       "      <td>0.512509</td>\n",
       "      <td>-0.497126</td>\n",
       "      <td>-0.286818</td>\n",
       "      <td>-0.611238</td>\n",
       "      <td>0.074989</td>\n",
       "      <td>-0.582575</td>\n",
       "      <td>0.050555</td>\n",
       "      <td>-0.660082</td>\n",
       "    </tr>\n",
       "    <tr>\n",
       "      <th>7045</th>\n",
       "      <td>0.377800</td>\n",
       "      <td>0.200719</td>\n",
       "      <td>-0.365029</td>\n",
       "      <td>0.167704</td>\n",
       "      <td>0.234486</td>\n",
       "      <td>0.248643</td>\n",
       "      <td>0.540473</td>\n",
       "      <td>0.278653</td>\n",
       "      <td>-0.219197</td>\n",
       "      <td>0.179207</td>\n",
       "      <td>...</td>\n",
       "      <td>-0.001868</td>\n",
       "      <td>-0.388042</td>\n",
       "      <td>0.512509</td>\n",
       "      <td>-0.497126</td>\n",
       "      <td>-0.286818</td>\n",
       "      <td>-0.611238</td>\n",
       "      <td>0.074989</td>\n",
       "      <td>-0.582575</td>\n",
       "      <td>0.047654</td>\n",
       "      <td>-0.624646</td>\n",
       "    </tr>\n",
       "    <tr>\n",
       "      <th>7046</th>\n",
       "      <td>0.389390</td>\n",
       "      <td>0.232391</td>\n",
       "      <td>-0.340283</td>\n",
       "      <td>0.173228</td>\n",
       "      <td>0.234486</td>\n",
       "      <td>0.248643</td>\n",
       "      <td>0.540473</td>\n",
       "      <td>0.278653</td>\n",
       "      <td>-0.219197</td>\n",
       "      <td>0.179207</td>\n",
       "      <td>...</td>\n",
       "      <td>0.030470</td>\n",
       "      <td>-0.406566</td>\n",
       "      <td>0.512509</td>\n",
       "      <td>-0.497126</td>\n",
       "      <td>-0.286818</td>\n",
       "      <td>-0.611238</td>\n",
       "      <td>0.074989</td>\n",
       "      <td>-0.582575</td>\n",
       "      <td>0.030470</td>\n",
       "      <td>-0.627440</td>\n",
       "    </tr>\n",
       "    <tr>\n",
       "      <th>7047</th>\n",
       "      <td>0.478439</td>\n",
       "      <td>0.169715</td>\n",
       "      <td>-0.363682</td>\n",
       "      <td>0.150576</td>\n",
       "      <td>0.234486</td>\n",
       "      <td>0.248643</td>\n",
       "      <td>0.540473</td>\n",
       "      <td>0.278653</td>\n",
       "      <td>-0.219197</td>\n",
       "      <td>0.179207</td>\n",
       "      <td>...</td>\n",
       "      <td>0.057379</td>\n",
       "      <td>-0.390104</td>\n",
       "      <td>0.512509</td>\n",
       "      <td>-0.497126</td>\n",
       "      <td>-0.286818</td>\n",
       "      <td>-0.611238</td>\n",
       "      <td>0.074989</td>\n",
       "      <td>-0.582575</td>\n",
       "      <td>0.043025</td>\n",
       "      <td>-0.658051</td>\n",
       "    </tr>\n",
       "    <tr>\n",
       "      <th>7048</th>\n",
       "      <td>0.394548</td>\n",
       "      <td>0.095323</td>\n",
       "      <td>-0.352165</td>\n",
       "      <td>0.176487</td>\n",
       "      <td>0.234486</td>\n",
       "      <td>0.248643</td>\n",
       "      <td>0.540473</td>\n",
       "      <td>0.278653</td>\n",
       "      <td>-0.219197</td>\n",
       "      <td>0.179207</td>\n",
       "      <td>...</td>\n",
       "      <td>-0.019391</td>\n",
       "      <td>-0.521528</td>\n",
       "      <td>0.512509</td>\n",
       "      <td>-0.497126</td>\n",
       "      <td>-0.286818</td>\n",
       "      <td>-0.611238</td>\n",
       "      <td>0.074989</td>\n",
       "      <td>-0.582575</td>\n",
       "      <td>-0.043740</td>\n",
       "      <td>-0.724440</td>\n",
       "    </tr>\n",
       "  </tbody>\n",
       "</table>\n",
       "<p>7049 rows × 30 columns</p>\n",
       "</div>\n",
       "      <button class=\"colab-df-convert\" onclick=\"convertToInteractive('df-b47656f8-a96c-470d-b8c6-0927845490ea')\"\n",
       "              title=\"Convert this dataframe to an interactive table.\"\n",
       "              style=\"display:none;\">\n",
       "        \n",
       "  <svg xmlns=\"http://www.w3.org/2000/svg\" height=\"24px\"viewBox=\"0 0 24 24\"\n",
       "       width=\"24px\">\n",
       "    <path d=\"M0 0h24v24H0V0z\" fill=\"none\"/>\n",
       "    <path d=\"M18.56 5.44l.94 2.06.94-2.06 2.06-.94-2.06-.94-.94-2.06-.94 2.06-2.06.94zm-11 1L8.5 8.5l.94-2.06 2.06-.94-2.06-.94L8.5 2.5l-.94 2.06-2.06.94zm10 10l.94 2.06.94-2.06 2.06-.94-2.06-.94-.94-2.06-.94 2.06-2.06.94z\"/><path d=\"M17.41 7.96l-1.37-1.37c-.4-.4-.92-.59-1.43-.59-.52 0-1.04.2-1.43.59L10.3 9.45l-7.72 7.72c-.78.78-.78 2.05 0 2.83L4 21.41c.39.39.9.59 1.41.59.51 0 1.02-.2 1.41-.59l7.78-7.78 2.81-2.81c.8-.78.8-2.07 0-2.86zM5.41 20L4 18.59l7.72-7.72 1.47 1.35L5.41 20z\"/>\n",
       "  </svg>\n",
       "      </button>\n",
       "      \n",
       "  <style>\n",
       "    .colab-df-container {\n",
       "      display:flex;\n",
       "      flex-wrap:wrap;\n",
       "      gap: 12px;\n",
       "    }\n",
       "\n",
       "    .colab-df-convert {\n",
       "      background-color: #E8F0FE;\n",
       "      border: none;\n",
       "      border-radius: 50%;\n",
       "      cursor: pointer;\n",
       "      display: none;\n",
       "      fill: #1967D2;\n",
       "      height: 32px;\n",
       "      padding: 0 0 0 0;\n",
       "      width: 32px;\n",
       "    }\n",
       "\n",
       "    .colab-df-convert:hover {\n",
       "      background-color: #E2EBFA;\n",
       "      box-shadow: 0px 1px 2px rgba(60, 64, 67, 0.3), 0px 1px 3px 1px rgba(60, 64, 67, 0.15);\n",
       "      fill: #174EA6;\n",
       "    }\n",
       "\n",
       "    [theme=dark] .colab-df-convert {\n",
       "      background-color: #3B4455;\n",
       "      fill: #D2E3FC;\n",
       "    }\n",
       "\n",
       "    [theme=dark] .colab-df-convert:hover {\n",
       "      background-color: #434B5C;\n",
       "      box-shadow: 0px 1px 3px 1px rgba(0, 0, 0, 0.15);\n",
       "      filter: drop-shadow(0px 1px 2px rgba(0, 0, 0, 0.3));\n",
       "      fill: #FFFFFF;\n",
       "    }\n",
       "  </style>\n",
       "\n",
       "      <script>\n",
       "        const buttonEl =\n",
       "          document.querySelector('#df-b47656f8-a96c-470d-b8c6-0927845490ea button.colab-df-convert');\n",
       "        buttonEl.style.display =\n",
       "          google.colab.kernel.accessAllowed ? 'block' : 'none';\n",
       "\n",
       "        async function convertToInteractive(key) {\n",
       "          const element = document.querySelector('#df-b47656f8-a96c-470d-b8c6-0927845490ea');\n",
       "          const dataTable =\n",
       "            await google.colab.kernel.invokeFunction('convertToInteractive',\n",
       "                                                     [key], {});\n",
       "          if (!dataTable) return;\n",
       "\n",
       "          const docLinkHtml = 'Like what you see? Visit the ' +\n",
       "            '<a target=\"_blank\" href=https://colab.research.google.com/notebooks/data_table.ipynb>data table notebook</a>'\n",
       "            + ' to learn more about interactive tables.';\n",
       "          element.innerHTML = '';\n",
       "          dataTable['output_type'] = 'display_data';\n",
       "          await google.colab.output.renderOutput(dataTable, element);\n",
       "          const docLink = document.createElement('div');\n",
       "          docLink.innerHTML = docLinkHtml;\n",
       "          element.appendChild(docLink);\n",
       "        }\n",
       "      </script>\n",
       "    </div>\n",
       "  </div>\n",
       "  "
      ],
      "text/plain": [
       "      left_eye_center_x  left_eye_center_y  right_eye_center_x  \\\n",
       "0              0.375699           0.187453           -0.370271   \n",
       "1              0.340270           0.271457           -0.376057   \n",
       "2              0.355355           0.272716           -0.356171   \n",
       "3              0.358870           0.223713           -0.332852   \n",
       "4              0.390110           0.174557           -0.328233   \n",
       "...                 ...                ...                 ...   \n",
       "7044           0.404220           0.336614           -0.380276   \n",
       "7045           0.377800           0.200719           -0.365029   \n",
       "7046           0.389390           0.232391           -0.340283   \n",
       "7047           0.478439           0.169715           -0.363682   \n",
       "7048           0.394548           0.095323           -0.352165   \n",
       "\n",
       "      right_eye_center_y  left_eye_inner_corner_x  left_eye_inner_corner_y  \\\n",
       "0               0.241215                 0.241293                 0.174012   \n",
       "1               0.303152                 0.226170                 0.265118   \n",
       "2               0.272716                 0.237750                 0.243313   \n",
       "3               0.223713                 0.250070                 0.184850   \n",
       "4               0.207458                 0.220123                 0.174557   \n",
       "...                  ...                      ...                      ...   \n",
       "7044            0.195147                 0.234486                 0.248643   \n",
       "7045            0.167704                 0.234486                 0.248643   \n",
       "7046            0.173228                 0.234486                 0.248643   \n",
       "7047            0.150576                 0.234486                 0.248643   \n",
       "7048            0.176487                 0.234486                 0.248643   \n",
       "\n",
       "      left_eye_outer_corner_x  left_eye_outer_corner_y  \\\n",
       "0                    0.523549                 0.167292   \n",
       "1                    0.473390                 0.246101   \n",
       "2                    0.478842                 0.243313   \n",
       "3                    0.506557                 0.200397   \n",
       "4                    0.510748                 0.169074   \n",
       "...                       ...                      ...   \n",
       "7044                 0.540473                 0.278653   \n",
       "7045                 0.540473                 0.278653   \n",
       "7046                 0.540473                 0.278653   \n",
       "7047                 0.540473                 0.278653   \n",
       "7048                 0.540473                 0.278653   \n",
       "\n",
       "      right_eye_inner_corner_x  right_eye_inner_corner_y  ...  nose_tip_x  \\\n",
       "0                    -0.242571                  0.221054  ...   -0.074571   \n",
       "1                    -0.249277                  0.284135  ...    0.004298   \n",
       "2                    -0.215039                  0.243313  ...   -0.009224   \n",
       "3                    -0.216278                  0.192623  ...    0.080939   \n",
       "4                    -0.229534                  0.185524  ...   -0.097926   \n",
       "...                        ...                       ...  ...         ...   \n",
       "7044                 -0.219197                  0.179207  ...    0.005541   \n",
       "7045                 -0.219197                  0.179207  ...   -0.001868   \n",
       "7046                 -0.219197                  0.179207  ...    0.030470   \n",
       "7047                 -0.219197                  0.179207  ...    0.057379   \n",
       "7048                 -0.219197                  0.179207  ...   -0.019391   \n",
       "\n",
       "      nose_tip_y  mouth_left_corner_x  mouth_left_corner_y  \\\n",
       "0      -0.188892             0.274902            -0.666045   \n",
       "1      -0.159603             0.175447            -0.590667   \n",
       "2      -0.115395             0.267145            -0.521132   \n",
       "3      -0.128470             0.366643            -0.514661   \n",
       "4      -0.351865             0.263988            -0.615067   \n",
       "...          ...                  ...                  ...   \n",
       "7044   -0.396439             0.512509            -0.497126   \n",
       "7045   -0.388042             0.512509            -0.497126   \n",
       "7046   -0.406566             0.512509            -0.497126   \n",
       "7047   -0.390104             0.512509            -0.497126   \n",
       "7048   -0.521528             0.512509            -0.497126   \n",
       "\n",
       "      mouth_right_corner_x  mouth_right_corner_y  mouth_center_top_lip_x  \\\n",
       "0                -0.403865             -0.612271               -0.097654   \n",
       "1                -0.268284             -0.584326               -0.027404   \n",
       "2                -0.297368             -0.515250               -0.015105   \n",
       "3                -0.224052             -0.545739                0.047983   \n",
       "4                -0.350172             -0.604110               -0.063276   \n",
       "...                    ...                   ...                     ...   \n",
       "7044             -0.286818             -0.611238                0.074989   \n",
       "7045             -0.286818             -0.611238                0.074989   \n",
       "7046             -0.286818             -0.611238                0.074989   \n",
       "7047             -0.286818             -0.611238                0.074989   \n",
       "7048             -0.286818             -0.611238                0.074989   \n",
       "\n",
       "      mouth_center_top_lip_y  mouth_center_bottom_lip_x  \\\n",
       "0                  -0.519489                  -0.101444   \n",
       "1                  -0.463887                  -0.052752   \n",
       "2                  -0.462329                  -0.015105   \n",
       "3                  -0.460243                   0.074191   \n",
       "4                  -0.535571                  -0.078601   \n",
       "...                      ...                        ...   \n",
       "7044               -0.582575                   0.050555   \n",
       "7045               -0.582575                   0.047654   \n",
       "7046               -0.582575                   0.030470   \n",
       "7047               -0.582575                   0.043025   \n",
       "7048               -0.582575                  -0.043740   \n",
       "\n",
       "      mouth_center_bottom_lip_y  \n",
       "0                     -0.760120  \n",
       "1                     -0.780837  \n",
       "2                     -0.638737  \n",
       "3                     -0.630591  \n",
       "4                     -0.809816  \n",
       "...                         ...  \n",
       "7044                  -0.660082  \n",
       "7045                  -0.624646  \n",
       "7046                  -0.627440  \n",
       "7047                  -0.658051  \n",
       "7048                  -0.724440  \n",
       "\n",
       "[7049 rows x 30 columns]"
      ]
     },
     "execution_count": 49,
     "metadata": {},
     "output_type": "execute_result"
    }
   ],
   "source": [
    "y"
   ]
  },
  {
   "cell_type": "code",
   "execution_count": null,
   "id": "a3a4b8f6",
   "metadata": {
    "id": "a3a4b8f6"
   },
   "outputs": [],
   "source": [
    "X = X/255\n",
    "# y[:,0:30:2] = (y[:,0:30:2]-48)/48\n",
    "# y[:,1:30:2] = (y[:,1:30:2]-48)/-48\n",
    "# print(y[0])"
   ]
  },
  {
   "cell_type": "code",
   "execution_count": null,
   "id": "2d53afe1",
   "metadata": {
    "id": "2d53afe1"
   },
   "outputs": [],
   "source": [
    "X_inv = np.copy(X[:,:,::-1])\n"
   ]
  },
  {
   "cell_type": "code",
   "execution_count": null,
   "id": "9b4c33bf",
   "metadata": {
    "colab": {
     "base_uri": "https://localhost:8080/",
     "height": 269
    },
    "executionInfo": {
     "elapsed": 363,
     "status": "ok",
     "timestamp": 1651397852374,
     "user": {
      "displayName": "Baptiste Lemaire",
      "userId": "01895571140466145409"
     },
     "user_tz": -120
    },
    "id": "9b4c33bf",
    "outputId": "3bea125e-f5b8-4f37-99a6-1905ecdf510c"
   },
   "outputs": [
    {
     "data": {
      "image/png": "[encoded data removed]",
      "text/plain": [
       "<Figure size 432x288 with 1 Axes>"
      ]
     },
     "metadata": {
      "needs_background": "light"
     },
     "output_type": "display_data"
    }
   ],
   "source": [
    "idx = np.random.randint(0,X.shape[0])\n",
    "plt.imshow(X[idx], cmap='gray', vmin=0, vmax=1, extent=[-1,1,-1,1])\n",
    "for i in range(0,y.shape[1],2):\n",
    "    plt.scatter(y.iloc[idx,i],y.iloc[idx,i+1],c='r')\n",
    "plt.show()"
   ]
  },
  {
   "cell_type": "code",
   "execution_count": null,
   "id": "26ec89be",
   "metadata": {
    "colab": {
     "base_uri": "https://localhost:8080/",
     "height": 204
    },
    "executionInfo": {
     "elapsed": 486,
     "status": "ok",
     "timestamp": 1651397852857,
     "user": {
      "displayName": "Baptiste Lemaire",
      "userId": "01895571140466145409"
     },
     "user_tz": -120
    },
    "id": "26ec89be",
    "outputId": "98a33c2d-c825-495f-cf7c-b6ab51bb7f9a"
   },
   "outputs": [
    {
     "data": {
      "image/png": "[encoded data removed]",
      "text/plain": [
       "<Figure size 432x288 with 2 Axes>"
      ]
     },
     "metadata": {
      "needs_background": "light"
     },
     "output_type": "display_data"
    }
   ],
   "source": [
    "idx = np.random.randint(0,X.shape[0])\n",
    "fig, ax = plt.subplots(1,2)\n",
    "ax[0].imshow(X[idx], cmap='gray', vmin=0, vmax=1, extent=[-1,1,-1,1])\n",
    "ax[1].imshow(X_inv[idx], cmap='gray', vmin=0, vmax=1, extent=[-1,1,-1,1])\n",
    "plt.show()"
   ]
  },
  {
   "cell_type": "code",
   "execution_count": null,
   "id": "2309dee1",
   "metadata": {
    "id": "2309dee1"
   },
   "outputs": [],
   "source": [
    "y_inv = y.copy(deep=True)\n",
    "y_inv.loc[:,col_x] = y_inv.loc[:,col_x].apply(lambda x: -1*x)"
   ]
  },
  {
   "cell_type": "code",
   "execution_count": null,
   "id": "7f79874e",
   "metadata": {
    "colab": {
     "base_uri": "https://localhost:8080/"
    },
    "executionInfo": {
     "elapsed": 10,
     "status": "ok",
     "timestamp": 1651397852858,
     "user": {
      "displayName": "Baptiste Lemaire",
      "userId": "01895571140466145409"
     },
     "user_tz": -120
    },
    "id": "7f79874e",
    "outputId": "076b8987-f2f3-4598-bf6d-33f84f96fed3"
   },
   "outputs": [
    {
     "name": "stdout",
     "output_type": "stream",
     "text": [
      "Before indexing :\n",
      "['left_eye_center_x', 'left_eye_center_y', 'right_eye_center_x', 'right_eye_center_y', 'left_eye_inner_corner_x']\n",
      "After indexing :\n",
      "['left_eye_center_x', 'left_eye_center_y', 'right_eye_center_x', 'right_eye_center_y', 'left_eye_inner_corner_x']\n"
     ]
    }
   ],
   "source": [
    "col = list(y_inv.columns)\n",
    "def swap_columns(L, col1, col2):\n",
    "    new_L = L.copy()\n",
    "    i_col1_x = L.index(col1+'_x')\n",
    "    i_col1_y = L.index(col1+'_y')\n",
    "    i_col2_x = L.index(col2+'_x')\n",
    "    i_col2_y = L.index(col2+'_y')\n",
    "    new_L[i_col1_x], new_L[i_col1_y], new_L[i_col2_x], new_L[i_col2_y] = L[i_col2_x], L[i_col2_y], L[i_col1_x], L[i_col1_y]\n",
    "    return new_L\n",
    "print(\"Before indexing :\")\n",
    "print(col[:5])\n",
    "new_col = swap_columns(col, 'left_eye_center', 'right_eye_center')\n",
    "print(\"After indexing :\")\n",
    "print(col[:5])"
   ]
  },
  {
   "cell_type": "code",
   "execution_count": null,
   "id": "61e2277f",
   "metadata": {
    "id": "61e2277f"
   },
   "outputs": [],
   "source": [
    "L_inv = [['left_eye_center', 'right_eye_center'],\n",
    "         ['left_eye_inner_corner', 'right_eye_inner_corner'],\n",
    "         ['left_eye_outer_corner', 'right_eye_outer_corner'],\n",
    "         ['left_eyebrow_inner_end', 'right_eyebrow_inner_end'],\n",
    "         ['left_eyebrow_outer_end', 'right_eyebrow_outer_end'],\n",
    "         ['mouth_left_corner','mouth_right_corner']]\n",
    "\n",
    "col_inv = list(y_inv.columns)"
   ]
  },
  {
   "cell_type": "code",
   "execution_count": null,
   "id": "6e6845a8",
   "metadata": {
    "id": "6e6845a8"
   },
   "outputs": [],
   "source": [
    "for left_col, right_col in L_inv:\n",
    "    col_inv = swap_columns(col_inv, left_col, right_col)"
   ]
  },
  {
   "cell_type": "code",
   "execution_count": null,
   "id": "b2cc0ae9",
   "metadata": {
    "id": "b2cc0ae9"
   },
   "outputs": [],
   "source": [
    "y_inv = y_inv[col_inv]\n",
    "y_inv = y_inv.set_axis(list(y.columns), axis=1)"
   ]
  },
  {
   "cell_type": "code",
   "execution_count": null,
   "id": "88768dd1",
   "metadata": {
    "id": "88768dd1"
   },
   "outputs": [],
   "source": [
    "# print(y.head())\n",
    "# print(y_inv.head())"
   ]
  },
  {
   "cell_type": "code",
   "execution_count": null,
   "id": "b72e6270",
   "metadata": {
    "colab": {
     "base_uri": "https://localhost:8080/",
     "height": 204
    },
    "executionInfo": {
     "elapsed": 486,
     "status": "ok",
     "timestamp": 1651397853338,
     "user": {
      "displayName": "Baptiste Lemaire",
      "userId": "01895571140466145409"
     },
     "user_tz": -120
    },
    "id": "b72e6270",
    "outputId": "c99f29aa-1489-4cec-ea30-0f28a01892f6"
   },
   "outputs": [
    {
     "data": {
      "image/png": "[encoded data removed]",
      "text/plain": [
       "<Figure size 432x288 with 2 Axes>"
      ]
     },
     "metadata": {
      "needs_background": "light"
     },
     "output_type": "display_data"
    }
   ],
   "source": [
    "idx = np.random.randint(0,X.shape[0])\n",
    "fig, ax = plt.subplots(1,2)\n",
    "ax[0].imshow(X[idx], cmap='gray', vmin=0, vmax=1, extent=[-1,1,-1,1])\n",
    "ax[0].scatter(y.iloc[idx,0],y.iloc[idx,1],c='r')\n",
    "ax[1].imshow(X_inv[idx], cmap='gray', vmin=0, vmax=1, extent=[-1,1,-1,1])\n",
    "ax[1].scatter(y_inv.iloc[idx,0],y_inv.iloc[idx,1],c='r')\n",
    "plt.show()"
   ]
  },
  {
   "cell_type": "code",
   "execution_count": null,
   "id": "e5dc8120",
   "metadata": {
    "id": "e5dc8120"
   },
   "outputs": [],
   "source": []
  },
  {
   "cell_type": "code",
   "execution_count": null,
   "id": "652f3f6c",
   "metadata": {
    "id": "652f3f6c"
   },
   "outputs": [],
   "source": [
    "# X_ds = np.concatenate([X, X_inv])\n",
    "# y_ds = np.concatenate([y.to_numpy(), y_inv.to_numpy()])\n",
    "X_ds = X\n",
    "y_ds = y.to_numpy()"
   ]
  },
  {
   "cell_type": "code",
   "execution_count": null,
   "id": "7ad9e210",
   "metadata": {
    "colab": {
     "base_uri": "https://localhost:8080/"
    },
    "executionInfo": {
     "elapsed": 217,
     "status": "ok",
     "timestamp": 1651408588373,
     "user": {
      "displayName": "Baptiste Lemaire",
      "userId": "01895571140466145409"
     },
     "user_tz": -120
    },
    "id": "7ad9e210",
    "outputId": "637a4f2e-0752-4fab-e440-7bb1e3b487d9"
   },
   "outputs": [
    {
     "name": "stdout",
     "output_type": "stream",
     "text": [
      "(7049, 96, 96)\n",
      "(7049, 30)\n"
     ]
    }
   ],
   "source": [
    "print(X_ds.shape)\n",
    "print(y_ds.shape)"
   ]
  },
  {
   "cell_type": "code",
   "execution_count": null,
   "id": "e6eeb181",
   "metadata": {
    "id": "e6eeb181"
   },
   "outputs": [],
   "source": [
    "X_trn, X_tst, y_trn, y_tst = train_test_split(X_ds, y_ds, train_size=0.9, random_state=0)"
   ]
  },
  {
   "cell_type": "code",
   "execution_count": null,
   "id": "0863fe90",
   "metadata": {
    "colab": {
     "base_uri": "https://localhost:8080/"
    },
    "executionInfo": {
     "elapsed": 197,
     "status": "ok",
     "timestamp": 1651408591265,
     "user": {
      "displayName": "Baptiste Lemaire",
      "userId": "01895571140466145409"
     },
     "user_tz": -120
    },
    "id": "0863fe90",
    "outputId": "1a334e57-0c0d-47ba-aa1b-f217ba407960"
   },
   "outputs": [
    {
     "name": "stdout",
     "output_type": "stream",
     "text": [
      "(6344, 96, 96)\n",
      "(705, 96, 96)\n"
     ]
    }
   ],
   "source": [
    "print(X_trn.shape)\n",
    "print(X_tst.shape)"
   ]
  },
  {
   "cell_type": "code",
   "execution_count": null,
   "id": "65766a5e",
   "metadata": {
    "colab": {
     "base_uri": "https://localhost:8080/"
    },
    "executionInfo": {
     "elapsed": 1107,
     "status": "ok",
     "timestamp": 1651408594269,
     "user": {
      "displayName": "Baptiste Lemaire",
      "userId": "01895571140466145409"
     },
     "user_tz": -120
    },
    "id": "65766a5e",
    "outputId": "ed09ff32-8f1a-4d63-b457-5a0b86ce6d1d"
   },
   "outputs": [
    {
     "name": "stdout",
     "output_type": "stream",
     "text": [
      "Model: \"fkd_model\"\n",
      "_________________________________________________________________\n",
      " Layer (type)                Output Shape              Param #   \n",
      "=================================================================\n",
      " conv2d (Conv2D)             (None, 96, 96, 32)        288       \n",
      "                                                                 \n",
      " leaky_re_lu (LeakyReLU)     (None, 96, 96, 32)        0         \n",
      "                                                                 \n",
      " batch_normalization (BatchN  (None, 96, 96, 32)       128       \n",
      " ormalization)                                                   \n",
      "                                                                 \n",
      " conv2d_1 (Conv2D)           (None, 96, 96, 32)        9216      \n",
      "                                                                 \n",
      " leaky_re_lu_1 (LeakyReLU)   (None, 96, 96, 32)        0         \n",
      "                                                                 \n",
      " batch_normalization_1 (Batc  (None, 96, 96, 32)       128       \n",
      " hNormalization)                                                 \n",
      "                                                                 \n",
      " max_pooling2d (MaxPooling2D  (None, 48, 48, 32)       0         \n",
      " )                                                               \n",
      "                                                                 \n",
      " conv2d_2 (Conv2D)           (None, 48, 48, 64)        18432     \n",
      "                                                                 \n",
      " leaky_re_lu_2 (LeakyReLU)   (None, 48, 48, 64)        0         \n",
      "                                                                 \n",
      " batch_normalization_2 (Batc  (None, 48, 48, 64)       256       \n",
      " hNormalization)                                                 \n",
      "                                                                 \n",
      " conv2d_3 (Conv2D)           (None, 48, 48, 64)        36864     \n",
      "                                                                 \n",
      " leaky_re_lu_3 (LeakyReLU)   (None, 48, 48, 64)        0         \n",
      "                                                                 \n",
      " batch_normalization_3 (Batc  (None, 48, 48, 64)       256       \n",
      " hNormalization)                                                 \n",
      "                                                                 \n",
      " max_pooling2d_1 (MaxPooling  (None, 24, 24, 64)       0         \n",
      " 2D)                                                             \n",
      "                                                                 \n",
      " conv2d_4 (Conv2D)           (None, 24, 24, 96)        55296     \n",
      "                                                                 \n",
      " leaky_re_lu_4 (LeakyReLU)   (None, 24, 24, 96)        0         \n",
      "                                                                 \n",
      " batch_normalization_4 (Batc  (None, 24, 24, 96)       384       \n",
      " hNormalization)                                                 \n",
      "                                                                 \n",
      " conv2d_5 (Conv2D)           (None, 24, 24, 96)        82944     \n",
      "                                                                 \n",
      " leaky_re_lu_5 (LeakyReLU)   (None, 24, 24, 96)        0         \n",
      "                                                                 \n",
      " batch_normalization_5 (Batc  (None, 24, 24, 96)       384       \n",
      " hNormalization)                                                 \n",
      "                                                                 \n",
      " max_pooling2d_2 (MaxPooling  (None, 12, 12, 96)       0         \n",
      " 2D)                                                             \n",
      "                                                                 \n",
      " conv2d_6 (Conv2D)           (None, 12, 12, 128)       110592    \n",
      "                                                                 \n",
      " leaky_re_lu_6 (LeakyReLU)   (None, 12, 12, 128)       0         \n",
      "                                                                 \n",
      " batch_normalization_6 (Batc  (None, 12, 12, 128)      512       \n",
      " hNormalization)                                                 \n",
      "                                                                 \n",
      " conv2d_7 (Conv2D)           (None, 12, 12, 128)       147456    \n",
      "                                                                 \n",
      " leaky_re_lu_7 (LeakyReLU)   (None, 12, 12, 128)       0         \n",
      "                                                                 \n",
      " batch_normalization_7 (Batc  (None, 12, 12, 128)      512       \n",
      " hNormalization)                                                 \n",
      "                                                                 \n",
      " max_pooling2d_3 (MaxPooling  (None, 6, 6, 128)        0         \n",
      " 2D)                                                             \n",
      "                                                                 \n",
      " conv2d_8 (Conv2D)           (None, 6, 6, 256)         294912    \n",
      "                                                                 \n",
      " leaky_re_lu_8 (LeakyReLU)   (None, 6, 6, 256)         0         \n",
      "                                                                 \n",
      " batch_normalization_8 (Batc  (None, 6, 6, 256)        1024      \n",
      " hNormalization)                                                 \n",
      "                                                                 \n",
      " conv2d_9 (Conv2D)           (None, 6, 6, 256)         589824    \n",
      "                                                                 \n",
      " leaky_re_lu_9 (LeakyReLU)   (None, 6, 6, 256)         0         \n",
      "                                                                 \n",
      " batch_normalization_9 (Batc  (None, 6, 6, 256)        1024      \n",
      " hNormalization)                                                 \n",
      "                                                                 \n",
      " max_pooling2d_4 (MaxPooling  (None, 3, 3, 256)        0         \n",
      " 2D)                                                             \n",
      "                                                                 \n",
      " conv2d_10 (Conv2D)          (None, 3, 3, 512)         1179648   \n",
      "                                                                 \n",
      " leaky_re_lu_10 (LeakyReLU)  (None, 3, 3, 512)         0         \n",
      "                                                                 \n",
      " batch_normalization_10 (Bat  (None, 3, 3, 512)        2048      \n",
      " chNormalization)                                                \n",
      "                                                                 \n",
      " conv2d_11 (Conv2D)          (None, 3, 3, 512)         2359296   \n",
      "                                                                 \n",
      " leaky_re_lu_11 (LeakyReLU)  (None, 3, 3, 512)         0         \n",
      "                                                                 \n",
      " batch_normalization_11 (Bat  (None, 3, 3, 512)        2048      \n",
      " chNormalization)                                                \n",
      "                                                                 \n",
      " flatten (Flatten)           (None, 4608)              0         \n",
      "                                                                 \n",
      " dense (Dense)               (None, 512)               2359808   \n",
      "                                                                 \n",
      " dropout (Dropout)           (None, 512)               0         \n",
      "                                                                 \n",
      " dense_1 (Dense)             (None, 30)                15390     \n",
      "                                                                 \n",
      "=================================================================\n",
      "Total params: 7,268,670\n",
      "Trainable params: 7,264,318\n",
      "Non-trainable params: 4,352\n",
      "_________________________________________________________________\n"
     ]
    }
   ],
   "source": [
    "clear_session()\n",
    "\n",
    "model = Sequential([InputLayer(input_shape=(96, 96, 1)),\n",
    "                    Conv2D(32, (3,3), padding=\"same\", use_bias=False),\n",
    "                    LeakyReLU(0.1),\n",
    "                    BatchNormalization(),\n",
    "                    Conv2D(32, (3,3), padding=\"same\", use_bias=False),\n",
    "                    LeakyReLU(0.1),\n",
    "                    BatchNormalization(),\n",
    "                    MaxPool2D((2,2)),\n",
    "                    \n",
    "                    Conv2D(64, (3,3), padding=\"same\", use_bias=False),\n",
    "                    LeakyReLU(0.1),\n",
    "                    BatchNormalization(),\n",
    "                    Conv2D(64, (3,3), padding=\"same\", use_bias=False),\n",
    "                    LeakyReLU(0.1),\n",
    "                    BatchNormalization(),\n",
    "                    MaxPool2D((2,2)),\n",
    "                    \n",
    "                    Conv2D(96, (3,3), padding=\"same\", use_bias=False),\n",
    "                    LeakyReLU(0.1),\n",
    "                    BatchNormalization(),\n",
    "                    Conv2D(96, (3,3), padding=\"same\", use_bias=False),\n",
    "                    LeakyReLU(0.1),\n",
    "                    BatchNormalization(),\n",
    "                    MaxPool2D((2,2)),\n",
    "                    \n",
    "                    Conv2D(128, (3,3), padding=\"same\", use_bias=False),\n",
    "                    LeakyReLU(0.1),\n",
    "                    BatchNormalization(),\n",
    "                    Conv2D(128, (3,3), padding=\"same\", use_bias=False),\n",
    "                    LeakyReLU(0.1),\n",
    "                    BatchNormalization(),\n",
    "                    MaxPool2D((2,2)),\n",
    "                    \n",
    "                    Conv2D(256, (3,3), padding=\"same\", use_bias=False),\n",
    "                    LeakyReLU(0.1),\n",
    "                    BatchNormalization(),\n",
    "                    Conv2D(256, (3,3), padding=\"same\", use_bias=False),\n",
    "                    LeakyReLU(0.1),\n",
    "                    BatchNormalization(),\n",
    "                    MaxPool2D((2,2)),\n",
    "                    \n",
    "                    Conv2D(512, (3,3), padding=\"same\", use_bias=False),\n",
    "                    LeakyReLU(0.1),\n",
    "                    BatchNormalization(),\n",
    "                    Conv2D(512, (3,3), padding=\"same\", use_bias=False),\n",
    "                    LeakyReLU(0.1),\n",
    "                    BatchNormalization(),\n",
    "#                     MaxPool2D((2,2)),\n",
    "                    \n",
    "                    Flatten(),\n",
    "                    Dense(512, activation='relu'),\n",
    "                    Dropout(0.1),\n",
    "                    Dense(30)\n",
    "                                  \n",
    "], name=\"fkd_model\")\n",
    "model.summary()"
   ]
  },
  {
   "cell_type": "code",
   "execution_count": null,
   "id": "32f849df",
   "metadata": {
    "colab": {
     "base_uri": "https://localhost:8080/"
    },
    "executionInfo": {
     "elapsed": 1106075,
     "status": "ok",
     "timestamp": 1651409850234,
     "user": {
      "displayName": "Baptiste Lemaire",
      "userId": "01895571140466145409"
     },
     "user_tz": -120
    },
    "id": "32f849df",
    "outputId": "f225d994-0e86-4603-b31d-12ec0cd37baf"
   },
   "outputs": [
    {
     "name": "stdout",
     "output_type": "stream",
     "text": [
      "Epoch 1/200\n",
      "199/199 [==============================] - 24s 106ms/step - loss: 0.0078 - mse: 0.0078 - mae: 0.0586 - val_loss: 0.0039 - val_mse: 0.0039 - val_mae: 0.0387\n",
      "Epoch 2/200\n",
      "199/199 [==============================] - 19s 96ms/step - loss: 0.0057 - mse: 0.0057 - mae: 0.0499 - val_loss: 0.0038 - val_mse: 0.0038 - val_mae: 0.0399\n",
      "Epoch 3/200\n",
      "199/199 [==============================] - 18s 92ms/step - loss: 0.0047 - mse: 0.0047 - mae: 0.0438 - val_loss: 0.0036 - val_mse: 0.0036 - val_mae: 0.0357\n",
      "Epoch 4/200\n",
      "199/199 [==============================] - 18s 92ms/step - loss: 0.0041 - mse: 0.0041 - mae: 0.0400 - val_loss: 0.0035 - val_mse: 0.0035 - val_mae: 0.0387\n",
      "Epoch 5/200\n",
      "199/199 [==============================] - 18s 93ms/step - loss: 0.0034 - mse: 0.0034 - mae: 0.0354 - val_loss: 0.0029 - val_mse: 0.0029 - val_mae: 0.0312\n",
      "Epoch 6/200\n",
      "199/199 [==============================] - 18s 91ms/step - loss: 0.0030 - mse: 0.0030 - mae: 0.0326 - val_loss: 0.0028 - val_mse: 0.0028 - val_mae: 0.0298\n",
      "Epoch 7/200\n",
      "199/199 [==============================] - 18s 92ms/step - loss: 0.0030 - mse: 0.0030 - mae: 0.0328 - val_loss: 0.0029 - val_mse: 0.0029 - val_mae: 0.0303\n",
      "Epoch 8/200\n",
      "199/199 [==============================] - 18s 91ms/step - loss: 0.0028 - mse: 0.0028 - mae: 0.0309 - val_loss: 0.0025 - val_mse: 0.0025 - val_mae: 0.0298\n",
      "Epoch 9/200\n",
      "199/199 [==============================] - 18s 92ms/step - loss: 0.0027 - mse: 0.0027 - mae: 0.0301 - val_loss: 0.0026 - val_mse: 0.0026 - val_mae: 0.0294\n",
      "Epoch 10/200\n",
      "199/199 [==============================] - 18s 92ms/step - loss: 0.0026 - mse: 0.0026 - mae: 0.0295 - val_loss: 0.0025 - val_mse: 0.0025 - val_mae: 0.0293\n",
      "Epoch 11/200\n",
      "199/199 [==============================] - 18s 92ms/step - loss: 0.0025 - mse: 0.0025 - mae: 0.0292 - val_loss: 0.0025 - val_mse: 0.0025 - val_mae: 0.0283\n",
      "Epoch 12/200\n",
      "199/199 [==============================] - 18s 91ms/step - loss: 0.0025 - mse: 0.0025 - mae: 0.0287 - val_loss: 0.0027 - val_mse: 0.0027 - val_mae: 0.0293\n",
      "Epoch 13/200\n",
      "199/199 [==============================] - 18s 91ms/step - loss: 0.0025 - mse: 0.0025 - mae: 0.0291 - val_loss: 0.0026 - val_mse: 0.0026 - val_mae: 0.0288\n",
      "Epoch 14/200\n",
      "199/199 [==============================] - 18s 92ms/step - loss: 0.0024 - mse: 0.0024 - mae: 0.0282 - val_loss: 0.0025 - val_mse: 0.0025 - val_mae: 0.0291\n",
      "Epoch 15/200\n",
      "199/199 [==============================] - 18s 92ms/step - loss: 0.0024 - mse: 0.0024 - mae: 0.0282 - val_loss: 0.0025 - val_mse: 0.0025 - val_mae: 0.0287\n",
      "Epoch 16/200\n",
      "199/199 [==============================] - 18s 93ms/step - loss: 0.0024 - mse: 0.0024 - mae: 0.0279 - val_loss: 0.0025 - val_mse: 0.0025 - val_mae: 0.0278\n",
      "Epoch 17/200\n",
      "199/199 [==============================] - 18s 92ms/step - loss: 0.0024 - mse: 0.0024 - mae: 0.0281 - val_loss: 0.0025 - val_mse: 0.0025 - val_mae: 0.0273\n",
      "Epoch 18/200\n",
      "199/199 [==============================] - 19s 93ms/step - loss: 0.0024 - mse: 0.0024 - mae: 0.0277 - val_loss: 0.0024 - val_mse: 0.0024 - val_mae: 0.0276\n",
      "Epoch 19/200\n",
      "199/199 [==============================] - 18s 92ms/step - loss: 0.0023 - mse: 0.0023 - mae: 0.0275 - val_loss: 0.0025 - val_mse: 0.0025 - val_mae: 0.0277\n",
      "Epoch 20/200\n",
      "199/199 [==============================] - 18s 92ms/step - loss: 0.0023 - mse: 0.0023 - mae: 0.0277 - val_loss: 0.0027 - val_mse: 0.0027 - val_mae: 0.0286\n",
      "Epoch 21/200\n",
      "199/199 [==============================] - 18s 92ms/step - loss: 0.0026 - mse: 0.0026 - mae: 0.0292 - val_loss: 0.0027 - val_mse: 0.0027 - val_mae: 0.0285\n",
      "Epoch 22/200\n",
      "199/199 [==============================] - 18s 92ms/step - loss: 0.0024 - mse: 0.0024 - mae: 0.0280 - val_loss: 0.0025 - val_mse: 0.0025 - val_mae: 0.0280\n",
      "Epoch 23/200\n",
      "199/199 [==============================] - 18s 92ms/step - loss: 0.0023 - mse: 0.0023 - mae: 0.0275 - val_loss: 0.0026 - val_mse: 0.0026 - val_mae: 0.0285\n",
      "Epoch 24/200\n",
      "199/199 [==============================] - 18s 92ms/step - loss: 0.0023 - mse: 0.0023 - mae: 0.0279 - val_loss: 0.0025 - val_mse: 0.0025 - val_mae: 0.0273\n",
      "Epoch 25/200\n",
      "199/199 [==============================] - 18s 92ms/step - loss: 0.0023 - mse: 0.0023 - mae: 0.0272 - val_loss: 0.0030 - val_mse: 0.0030 - val_mae: 0.0287\n",
      "Epoch 26/200\n",
      "199/199 [==============================] - 18s 93ms/step - loss: 0.0023 - mse: 0.0023 - mae: 0.0274 - val_loss: 0.0030 - val_mse: 0.0030 - val_mae: 0.0287\n",
      "Epoch 27/200\n",
      "199/199 [==============================] - 18s 92ms/step - loss: 0.0024 - mse: 0.0024 - mae: 0.0280 - val_loss: 0.0031 - val_mse: 0.0031 - val_mae: 0.0287\n",
      "Epoch 28/200\n",
      "199/199 [==============================] - 18s 93ms/step - loss: 0.0023 - mse: 0.0023 - mae: 0.0276 - val_loss: 0.0035 - val_mse: 0.0035 - val_mae: 0.0285\n",
      "Epoch 29/200\n",
      "199/199 [==============================] - 18s 92ms/step - loss: 0.0022 - mse: 0.0022 - mae: 0.0274 - val_loss: 0.0101 - val_mse: 0.0101 - val_mae: 0.0301\n",
      "Epoch 30/200\n",
      "199/199 [==============================] - 18s 92ms/step - loss: 0.0024 - mse: 0.0024 - mae: 0.0283 - val_loss: 0.0028 - val_mse: 0.0028 - val_mae: 0.0300\n",
      "Epoch 31/200\n",
      "199/199 [==============================] - 18s 91ms/step - loss: 0.0040 - mse: 0.0040 - mae: 0.0330 - val_loss: 1.5245 - val_mse: 1.5245 - val_mae: 0.4196\n",
      "Epoch 32/200\n",
      "199/199 [==============================] - 18s 92ms/step - loss: 0.0051 - mse: 0.0051 - mae: 0.0406 - val_loss: 0.0039 - val_mse: 0.0039 - val_mae: 0.0379\n",
      "Epoch 33/200\n",
      "199/199 [==============================] - 18s 92ms/step - loss: 0.0038 - mse: 0.0038 - mae: 0.0380 - val_loss: 0.0039 - val_mse: 0.0039 - val_mae: 0.0379\n",
      "Epoch 34/200\n",
      "199/199 [==============================] - 18s 91ms/step - loss: 0.0038 - mse: 0.0038 - mae: 0.0380 - val_loss: 0.0039 - val_mse: 0.0039 - val_mae: 0.0381\n",
      "Epoch 35/200\n",
      "199/199 [==============================] - 18s 93ms/step - loss: 0.0038 - mse: 0.0038 - mae: 0.0379 - val_loss: 0.0039 - val_mse: 0.0039 - val_mae: 0.0381\n",
      "Epoch 36/200\n",
      "199/199 [==============================] - 18s 92ms/step - loss: 0.0038 - mse: 0.0038 - mae: 0.0379 - val_loss: 0.0039 - val_mse: 0.0039 - val_mae: 0.0384\n",
      "Epoch 37/200\n",
      "199/199 [==============================] - 18s 92ms/step - loss: 0.0039 - mse: 0.0039 - mae: 0.0381 - val_loss: 0.0038 - val_mse: 0.0038 - val_mae: 0.0379\n",
      "Epoch 38/200\n",
      "199/199 [==============================] - 18s 92ms/step - loss: 0.0038 - mse: 0.0038 - mae: 0.0379 - val_loss: 0.0039 - val_mse: 0.0039 - val_mae: 0.0382\n",
      "Epoch 39/200\n",
      "199/199 [==============================] - 18s 91ms/step - loss: 0.0038 - mse: 0.0038 - mae: 0.0379 - val_loss: 0.0039 - val_mse: 0.0039 - val_mae: 0.0388\n",
      "Epoch 40/200\n",
      "199/199 [==============================] - 18s 91ms/step - loss: 0.0037 - mse: 0.0037 - mae: 0.0378 - val_loss: 0.0039 - val_mse: 0.0039 - val_mae: 0.0380\n",
      "Epoch 41/200\n",
      "199/199 [==============================] - 18s 91ms/step - loss: 0.0037 - mse: 0.0037 - mae: 0.0376 - val_loss: 0.0040 - val_mse: 0.0040 - val_mae: 0.0389\n",
      "Epoch 42/200\n",
      "199/199 [==============================] - 18s 92ms/step - loss: 0.0037 - mse: 0.0037 - mae: 0.0377 - val_loss: 0.0038 - val_mse: 0.0038 - val_mae: 0.0376\n",
      "Epoch 43/200\n",
      "199/199 [==============================] - 18s 91ms/step - loss: 0.0036 - mse: 0.0036 - mae: 0.0373 - val_loss: 0.0037 - val_mse: 0.0037 - val_mae: 0.0379\n",
      "Epoch 44/200\n",
      "199/199 [==============================] - 18s 92ms/step - loss: 0.0036 - mse: 0.0036 - mae: 0.0368 - val_loss: 0.0036 - val_mse: 0.0036 - val_mae: 0.0363\n",
      "Epoch 45/200\n",
      "199/199 [==============================] - 18s 92ms/step - loss: 0.0035 - mse: 0.0035 - mae: 0.0358 - val_loss: 0.0034 - val_mse: 0.0034 - val_mae: 0.0336\n",
      "Epoch 46/200\n",
      "199/199 [==============================] - 19s 93ms/step - loss: 0.0034 - mse: 0.0034 - mae: 0.0352 - val_loss: 0.0034 - val_mse: 0.0034 - val_mae: 0.0356\n",
      "Epoch 47/200\n",
      "199/199 [==============================] - 18s 92ms/step - loss: 0.0033 - mse: 0.0033 - mae: 0.0342 - val_loss: 0.0033 - val_mse: 0.0033 - val_mae: 0.0338\n",
      "Epoch 48/200\n",
      "199/199 [==============================] - 18s 92ms/step - loss: 0.0033 - mse: 0.0033 - mae: 0.0340 - val_loss: 0.0032 - val_mse: 0.0032 - val_mae: 0.0344\n",
      "Epoch 49/200\n",
      "199/199 [==============================] - 18s 91ms/step - loss: 0.0032 - mse: 0.0032 - mae: 0.0336 - val_loss: 0.0032 - val_mse: 0.0032 - val_mae: 0.0331\n",
      "Epoch 50/200\n",
      "199/199 [==============================] - 18s 91ms/step - loss: 0.0032 - mse: 0.0032 - mae: 0.0335 - val_loss: 0.0041 - val_mse: 0.0041 - val_mae: 0.0432\n",
      "Epoch 51/200\n",
      "199/199 [==============================] - 18s 92ms/step - loss: 0.0033 - mse: 0.0033 - mae: 0.0340 - val_loss: 0.0032 - val_mse: 0.0032 - val_mae: 0.0347\n",
      "Epoch 52/200\n",
      "199/199 [==============================] - 18s 92ms/step - loss: 0.0032 - mse: 0.0032 - mae: 0.0332 - val_loss: 0.0031 - val_mse: 0.0031 - val_mae: 0.0317\n",
      "Epoch 53/200\n",
      "199/199 [==============================] - 18s 91ms/step - loss: 0.0031 - mse: 0.0031 - mae: 0.0330 - val_loss: 0.0030 - val_mse: 0.0030 - val_mae: 0.0313\n",
      "Epoch 54/200\n",
      "199/199 [==============================] - 18s 92ms/step - loss: 0.0031 - mse: 0.0031 - mae: 0.0322 - val_loss: 0.0030 - val_mse: 0.0030 - val_mae: 0.0301\n",
      "Epoch 55/200\n",
      "199/199 [==============================] - 18s 92ms/step - loss: 0.0031 - mse: 0.0031 - mae: 0.0325 - val_loss: 0.0031 - val_mse: 0.0031 - val_mae: 0.0310\n",
      "Epoch 56/200\n",
      "199/199 [==============================] - 18s 93ms/step - loss: 0.0030 - mse: 0.0030 - mae: 0.0323 - val_loss: 0.0030 - val_mse: 0.0030 - val_mae: 0.0300\n",
      "Epoch 57/200\n",
      "199/199 [==============================] - 18s 91ms/step - loss: 0.0030 - mse: 0.0030 - mae: 0.0320 - val_loss: 0.0030 - val_mse: 0.0030 - val_mae: 0.0303\n",
      "Epoch 58/200\n",
      "199/199 [==============================] - 18s 92ms/step - loss: 0.0030 - mse: 0.0030 - mae: 0.0316 - val_loss: 0.0029 - val_mse: 0.0029 - val_mae: 0.0307\n",
      "CPU times: user 14min 44s, sys: 25 s, total: 15min 9s\n",
      "Wall time: 18min 25s\n"
     ]
    }
   ],
   "source": [
    "%%time\n",
    "earlystopping = EarlyStopping(monitor='val_mse', patience=40, restore_best_weights=True)\n",
    "log_dir = \"drive/MyDrive/Machine_Learning/Kaggle/logs/\" + datetime.datetime.now().strftime(\"%Y%m%d-%H%M%S\") # path for tensorboards logs\n",
    "tensorboard = TensorBoard(log_dir=log_dir, histogram_freq=1) #tensorboard callback function\n",
    " \n",
    "\n",
    "model.compile(optimizer=Adam(),\n",
    "              loss=\"mse\",\n",
    "              metrics=[\"mse\", \"mae\"])\n",
    "\n",
    "model.fit(\n",
    "    X_trn,\n",
    "    y_trn,\n",
    "    epochs=200, \n",
    "    callbacks=[tensorboard, earlystopping],\n",
    "    validation_data = (X_tst, y_tst)\n",
    "   \n",
    ")\n",
    "\n",
    "save_model(model, \"drive/MyDrive/Machine_Learning/Kaggle/\"+model.name+\".h5\")"
   ]
  },
  {
   "cell_type": "code",
   "execution_count": null,
   "id": "GLfPM_0r-0Yp",
   "metadata": {
    "id": "GLfPM_0r-0Yp"
   },
   "outputs": [],
   "source": [
    "loaded_model = load_model(\"drive/MyDrive/Machine_Learning/Kaggle/fkd_model.h5\")"
   ]
  },
  {
   "cell_type": "code",
   "execution_count": null,
   "id": "ULlX_ohl8P0s",
   "metadata": {
    "id": "ULlX_ohl8P0s"
   },
   "outputs": [],
   "source": [
    "idx = np.random.randint(0,X_trn.shape[0])\n",
    "pred_img = X_trn[idx].reshape((1,96,96))\n",
    "pred = loaded_model.predict(np.expand_dims(pred_img, axis=3))\n",
    "print(pred.shape)\n",
    "plt.imshow(X_trn[idx], cmap='gray', vmin=0, vmax=1, extent=[-1,1,-1,1])\n",
    "for i in range(0,pred.shape[1],2):\n",
    "    plt.scatter(pred[0,i],pred[0,i+1],c='r')\n",
    "plt.show()"
   ]
  }
 ],
 "metadata": {
  "accelerator": "GPU",
  "colab": {
   "collapsed_sections": [],
   "name": "facial_keypoints_nb.ipynb",
   "provenance": []
  },
  "kernelspec": {
   "display_name": "Python 3 (ipykernel)",
   "language": "python",
   "name": "python3"
  },
  "language_info": {
   "codemirror_mode": {
    "name": "ipython",
    "version": 3
   },
   "file_extension": ".py",
   "mimetype": "text/x-python",
   "name": "python",
   "nbconvert_exporter": "python",
   "pygments_lexer": "ipython3",
   "version": "3.9.7"
  }
 },
 "nbformat": 4,
 "nbformat_minor": 5
}
